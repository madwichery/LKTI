{
 "cells": [
  {
   "cell_type": "code",
   "execution_count": 9,
   "metadata": {},
   "outputs": [],
   "source": [
    "from BeautifulSoup import BeautifulSoup\n",
    "import urllib2\n",
    "import re\n",
    "import os"
   ]
  },
  {
   "cell_type": "code",
   "execution_count": 10,
   "metadata": {},
   "outputs": [],
   "source": [
    "ZIPS = os.listdir('./dataset/origin/')\n",
    "ZIPS = [x for x in ZIPS if x.endswith('.zip')]"
   ]
  },
  {
   "cell_type": "code",
   "execution_count": 11,
   "metadata": {},
   "outputs": [],
   "source": [
    "QORIS = list()\n",
    "for x in ZIPS:\n",
    "    QORIS.append(x[4:-4])"
   ]
  },
  {
   "cell_type": "code",
   "execution_count": 15,
   "metadata": {},
   "outputs": [
    {
     "name": "stdout",
     "output_type": "stream",
     "text": [
      "Alafasy_128kbps done.\n",
      "Mohammad_al_Tablaway_64kbps done.\n",
      "Abdullah_Basfar_32kbps done.\n",
      "mahmoud_ali_al_banna_32kbps done.\n",
      "Khaalid_Abdullaah_al-Qahtaanee_192kbps done.\n",
      "Salah_Al_Budair_128kbps done.\n",
      "Karim_Mansoori_40kbps done.\n",
      "Hudhaify_32kbps done.\n",
      "khalefa_al_tunaiji_64kbps done.\n",
      "Sahl_Yassin_128kbps done.\n",
      "Menshawi_16kbps done.\n",
      "Akram_AlAlaqimy_128kbps done.\n",
      "Yasser_Ad-Dussary_128kbps done.\n",
      "Maher_AlMuaiqly_64kbps done.\n",
      "Ahmed_ibn_Ali_al-Ajamy_64kbps done.\n",
      "Abdullaah_3awwaad_Al-Juhaynee_128kbps done.\n",
      "Abdurrahmaan_As-Sudais_192kbps done.\n",
      "Abdul_Basit_Murattal_192kbps done.\n",
      "Abdullah_Matroud_128kbps done.\n",
      "Salaah_AbdulRahman_Bukhatir_128kbps done.\n",
      "Hudhaify_64kbps done.\n",
      "Alafasy_64kbps done.\n",
      "Yaser_Salamah_128kbps done.\n",
      "Muhammad_AbdulKareem_128kbps done.\n",
      "Husary_Muallim_128kbps done.\n",
      "Nasser_Alqatami_128kbps done.\n",
      "Abdul_Basit_Murattal_64kbps done.\n",
      "Abu_Bakr_Ash-Shaatree_64kbps done.\n",
      "Husary_Mujawwad_64kbps done.\n",
      "Abu_Bakr_Ash-Shaatree_128kbps done.\n",
      "Ahmed_Neana_128kbps done.\n",
      "Muhammad_Ayyoub_128kbps done.\n",
      "Abdullah_Basfar_64kbps done.\n",
      "ahmed_ibn_ali_al_ajamy_128kbps done.\n",
      "aziz_alili_128kbps done.\n",
      "Ibrahim_Akhdar_32kbps done.\n",
      "Muhsin_Al_Qasim_192kbps done.\n",
      "Husary_64kbps done.\n",
      "Muhammad_Jibreel_64kbps done.\n",
      "Abdullah_Basfar_192kbps done.\n",
      "Abdul_Basit_Mujawwad_128kbps done.\n",
      "Saood_ash-Shuraym_64kbps done.\n",
      "Hudhaify_128kbps done.\n",
      "Ali_Hajjaj_AlSuesy_128kbps done.\n",
      "Abdurrahmaan_As-Sudais_64kbps done.\n",
      "Ghamadi_40kbps done.\n",
      "Fares_Abbad_64kbps done.\n",
      "Ahmed_ibn_Ali_al-Ajamy_128kbps done.\n"
     ]
    }
   ],
   "source": [
    "for x in QORIS:\n",
    "    url = 'http://everyayah.com/data/' + x + '/'\n",
    "    html_page = urllib2.urlopen(url)\n",
    "    soup = BeautifulSoup(html_page)\n",
    "    fw = open('./dataset/links/' + x + '.txt', 'w')\n",
    "    for link in soup.findAll('a', attrs={'href': re.compile(\".mp3\")}):\n",
    "        addr = url + link.get('href')\n",
    "        fw.write(addr)\n",
    "        fw.write('\\n')\n",
    "    fw.close()\n",
    "    print x + ' done.'"
   ]
  },
  {
   "cell_type": "code",
   "execution_count": null,
   "metadata": {},
   "outputs": [],
   "source": []
  }
 ],
 "metadata": {
  "kernelspec": {
   "display_name": "Python 2",
   "language": "python",
   "name": "python2"
  },
  "language_info": {
   "codemirror_mode": {
    "name": "ipython",
    "version": 2
   },
   "file_extension": ".py",
   "mimetype": "text/x-python",
   "name": "python",
   "nbconvert_exporter": "python",
   "pygments_lexer": "ipython2",
   "version": "2.7.13"
  }
 },
 "nbformat": 4,
 "nbformat_minor": 2
}
