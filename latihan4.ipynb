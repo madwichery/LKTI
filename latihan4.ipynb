{
 "cells": [
  {
   "cell_type": "code",
   "execution_count": 39,
   "metadata": {},
   "outputs": [],
   "source": [
    "import os, librosa"
   ]
  },
  {
   "cell_type": "code",
   "execution_count": 49,
   "metadata": {},
   "outputs": [],
   "source": [
    "FILES = os.listdir('./dataset/links/')\n",
    "FILES = [x for x in FILES if x.endswith('.txt')]"
   ]
  },
  {
   "cell_type": "code",
   "execution_count": 53,
   "metadata": {},
   "outputs": [
    {
     "name": "stdout",
     "output_type": "stream",
     "text": [
      "Abu_Bakr_Ash-Shaatree_128kbps.txt: 6353\n",
      "Abdurrahmaan_As-Sudais_192kbps.txt: 6349\n",
      "Abdul_Basit_Murattal_64kbps.txt: 6253\n",
      "Abdullah_Basfar_192kbps.txt: 6314\n",
      "Muhammad_Ayyoub_128kbps.txt: 6351\n",
      "Menshawi_16kbps.txt: 6238\n",
      "Akram_AlAlaqimy_128kbps.txt: 6350\n",
      "Abdullah_Matroud_128kbps.txt: 6350\n",
      "Mohammad_al_Tablaway_64kbps.txt: 6350\n",
      "aziz_alili_128kbps.txt: 6350\n",
      "Sahl_Yassin_128kbps.txt: 6350\n",
      "Ali_Hajjaj_AlSuesy_128kbps.txt: 6350\n",
      "Yaser_Salamah_128kbps.txt: 6244\n",
      "Yasser_Ad-Dussary_128kbps.txt: 6350\n",
      "Ibrahim_Akhdar_32kbps.txt: 6236\n",
      "Abdullah_Basfar_32kbps.txt: 6236\n",
      "Hudhaify_128kbps.txt: 6352\n",
      "Hudhaify_64kbps.txt: 6238\n",
      "Husary_Mujawwad_64kbps.txt: 6239\n",
      "Husary_Muallim_128kbps.txt: 6236\n",
      "Abdurrahmaan_As-Sudais_64kbps.txt: 6349\n",
      "Abu_Bakr_Ash-Shaatree_64kbps.txt: 6353\n",
      "Salah_Al_Budair_128kbps.txt: 6350\n",
      "Abdul_Basit_Mujawwad_128kbps.txt: 6352\n",
      "Muhammad_Jibreel_64kbps.txt: 6350\n",
      "Abdullah_Basfar_64kbps.txt: 6315\n",
      "Ghamadi_40kbps.txt: 6349\n",
      "khalefa_al_tunaiji_64kbps.txt: 6236\n",
      "Salaah_AbdulRahman_Bukhatir_128kbps.txt: 6350\n",
      "Muhammad_AbdulKareem_128kbps.txt: 6236\n",
      "Muhsin_Al_Qasim_192kbps.txt: 6350\n",
      "mahmoud_ali_al_banna_32kbps.txt: 6236\n",
      "ahmed_ibn_ali_al_ajamy_128kbps.txt: 6350\n",
      "Ahmed_Neana_128kbps.txt: 6351\n",
      "Abdul_Basit_Murattal_192kbps.txt: 6350\n",
      "Hudhaify_32kbps.txt: 6238\n",
      "Karim_Mansoori_40kbps.txt: 6348\n",
      "Abdullaah_3awwaad_Al-Juhaynee_128kbps.txt: 6357\n",
      "Fares_Abbad_64kbps.txt: 6353\n",
      "Husary_64kbps.txt: 6239\n",
      "Khaalid_Abdullaah_al-Qahtaanee_192kbps.txt: 6350\n",
      "Nasser_Alqatami_128kbps.txt: 6350\n",
      "Maher_AlMuaiqly_64kbps.txt: 6348\n",
      "Alafasy_128kbps.txt: 6350\n",
      "Alafasy_64kbps.txt: 6351\n",
      "Saood_ash-Shuraym_64kbps.txt: 6358\n"
     ]
    }
   ],
   "source": [
    "for x in FILES:\n",
    "    with open('./dataset/links/' + x) as FILE:\n",
    "        f = FILE.read().splitlines()\n",
    "        print(x + ': ' + str(len(f)))"
   ]
  },
  {
   "cell_type": "code",
   "execution_count": 26,
   "metadata": {},
   "outputs": [
    {
     "name": "stdout",
     "output_type": "stream",
     "text": [
      "268416\n"
     ]
    }
   ],
   "source": [
    "print(y1[10000:10100])"
   ]
  }
 ],
 "metadata": {
  "kernelspec": {
   "display_name": "Python 3",
   "language": "python",
   "name": "python3"
  },
  "language_info": {
   "codemirror_mode": {
    "name": "ipython",
    "version": 2
   },
   "file_extension": ".py",
   "mimetype": "text/x-python",
   "name": "python",
   "nbconvert_exporter": "python",
   "pygments_lexer": "ipython2",
   "version": "2.7.13"
  }
 },
 "nbformat": 4,
 "nbformat_minor": 2
}
