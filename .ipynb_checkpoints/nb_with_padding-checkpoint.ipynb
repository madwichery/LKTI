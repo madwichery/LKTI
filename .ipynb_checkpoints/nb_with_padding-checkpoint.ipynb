{
 "cells": [
  {
   "cell_type": "code",
   "execution_count": null,
   "metadata": {},
   "outputs": [],
   "source": [
    "import os\n",
    "import numpy as np\n",
    "import math\n",
    "import librosa\n",
    "import tflearn"
   ]
  },
  {
   "cell_type": "code",
   "execution_count": 2,
   "metadata": {},
   "outputs": [],
   "source": [
    "yLength = 0\n",
    "MFCCS = list()\n",
    "LABELS = list()\n",
    "_MFCCS = list()\n",
    "_LABELS = list()\n",
    "\n",
    "PATH_TRAIN = './dataset/train/'\n",
    "DATA_TRAIN = [x for x in os.listdir(PATH_TRAIN) if x.endswith('.wav')]\n",
    "PATH_VALID = './dataset/valid/'\n",
    "DATA_VALID = [x for x in os.listdir(PATH_VALID) if x.endswith('.wav')]\n",
    "PATH_TESTS = './dataset/test/'\n",
    "DATA_TESTS = [x for x in os.listdir(PATH_TESTS) if x.endswith('.wav')]"
   ]
  },
  {
   "cell_type": "code",
   "execution_count": 3,
   "metadata": {},
   "outputs": [
    {
     "name": "stdout",
     "output_type": "stream",
     "text": [
      "Length of vectorized data is 1100160\n"
     ]
    }
   ],
   "source": [
    "for x in DATA_TRAIN:\n",
    "    y, sr = librosa.load(PATH_TRAIN + x, sr=None, mono=True)\n",
    "    emphasized_signal = np.append(y[0], y[1:] - 0.97 * y[:-1])\n",
    "    if len(emphasized_signal) > yLength:\n",
    "        yLength = len(emphasized_signal)\n",
    "        \n",
    "for x in DATA_VALID:\n",
    "    y, sr = librosa.load(PATH_VALID + x, sr=None, mono=True)\n",
    "    emphasized_signal = np.append(y[0], y[1:] - 0.97 * y[:-1])\n",
    "    if len(emphasized_signal) > yLength:\n",
    "        yLength = len(emphasized_signal)\n",
    "        \n",
    "for x in DATA_TESTS:\n",
    "    y, sr = librosa.load(PATH_TESTS + x, sr=None, mono=True)\n",
    "    emphasized_signal = np.append(y[0], y[1:] - 0.97 * y[:-1])\n",
    "    if len(emphasized_signal) > yLength:\n",
    "        yLength = len(emphasized_signal)\n",
    "        \n",
    "print('Length of vectorized data is %s' % yLength)"
   ]
  },
  {
   "cell_type": "code",
   "execution_count": 4,
   "metadata": {},
   "outputs": [],
   "source": [
    "def VektorReshape(param):    \n",
    "    if len(param) < yLength:\n",
    "        _ceil = math.ceil((yLength - len(param)) / 2)\n",
    "        _floor = math.floor((yLength - len(param)) / 2)\n",
    "        return np.pad(param, (_floor, _ceil), 'constant', constant_value=(0))\n",
    "    \n",
    "    return param\n",
    "\n",
    "def LABEL_AL_FATIHA(filename):\n",
    "    ayah = int(filename[5])\n",
    "    \n",
    "    return np.eye(8)[ayah]"
   ]
  },
  {
   "cell_type": "code",
   "execution_count": 5,
   "metadata": {},
   "outputs": [],
   "source": [
    "for x in DATA_TRAIN:\n",
    "    y, sr = librosa.load(PATH_TRAIN + x, sr=None, mono=True)\n",
    "    emphasized_signal = np.append(y[0], y[1:] - 0.97 * y[:-1])\n",
    "    mfcc = librosa.feature.mfcc(emphasized_signal, sr)\n",
    "    LABELS.append(LABEL_AL_FATIHA(x))\n",
    "    MFCCS.append(np.array(mfcc))\n",
    "        \n",
    "for x in DATA_VALID:\n",
    "    y, sr = librosa.load(PATH_VALID + x, sr=None, mono=True)\n",
    "    emphasized_signal = np.append(y[0], y[1:] - 0.97 * y[:-1])\n",
    "    mfcc = librosa.feature.mfcc(emphasized_signal, sr)\n",
    "    _LABELS.append(LABEL_AL_FATIHA(x))\n",
    "    _MFCCS.append(np.array(mfcc))"
   ]
  },
  {
   "cell_type": "code",
   "execution_count": 7,
   "metadata": {},
   "outputs": [
    {
     "name": "stdout",
     "output_type": "stream",
     "text": [
      "[1, 2, 3, 6, 9, 17, 18, 34, 51, 102, 153, 306]\n",
      "Please choose a batch size: 17\n"
     ]
    },
    {
     "ename": "NameError",
     "evalue": "name 'tflearn' is not defined",
     "output_type": "error",
     "traceback": [
      "\u001b[0;31m---------------------------------------------------------------------------\u001b[0m",
      "\u001b[0;31mNameError\u001b[0m                                 Traceback (most recent call last)",
      "\u001b[0;32m<ipython-input-7-61df5a7f67a2>\u001b[0m in \u001b[0;36m<module>\u001b[0;34m\u001b[0m\n\u001b[1;32m      8\u001b[0m     \u001b[0mprint\u001b[0m\u001b[0;34m(\u001b[0m\u001b[0;34m\"Choosen batch size: %d\"\u001b[0m \u001b[0;34m%\u001b[0m \u001b[0mlen\u001b[0m\u001b[0;34m(\u001b[0m\u001b[0mMFCCS\u001b[0m\u001b[0;34m)\u001b[0m\u001b[0;34m)\u001b[0m\u001b[0;34m\u001b[0m\u001b[0;34m\u001b[0m\u001b[0m\n\u001b[1;32m      9\u001b[0m \u001b[0;34m\u001b[0m\u001b[0m\n\u001b[0;32m---> 10\u001b[0;31m \u001b[0mnet\u001b[0m \u001b[0;34m=\u001b[0m \u001b[0mtflearn\u001b[0m\u001b[0;34m.\u001b[0m\u001b[0minput_data\u001b[0m\u001b[0;34m(\u001b[0m\u001b[0;34m[\u001b[0m\u001b[0;32mNone\u001b[0m\u001b[0;34m,\u001b[0m \u001b[0;36m20\u001b[0m\u001b[0;34m,\u001b[0m \u001b[0myLength\u001b[0m\u001b[0;34m]\u001b[0m\u001b[0;34m)\u001b[0m\u001b[0;34m\u001b[0m\u001b[0;34m\u001b[0m\u001b[0m\n\u001b[0m\u001b[1;32m     11\u001b[0m \u001b[0mnet\u001b[0m \u001b[0;34m=\u001b[0m \u001b[0mtflearn\u001b[0m\u001b[0;34m.\u001b[0m\u001b[0mlstm\u001b[0m\u001b[0;34m(\u001b[0m\u001b[0mnet\u001b[0m\u001b[0;34m,\u001b[0m \u001b[0;36m128\u001b[0m\u001b[0;34m,\u001b[0m \u001b[0mdropout\u001b[0m\u001b[0;34m=\u001b[0m\u001b[0;36m0.8\u001b[0m\u001b[0;34m)\u001b[0m\u001b[0;34m\u001b[0m\u001b[0;34m\u001b[0m\u001b[0m\n\u001b[1;32m     12\u001b[0m \u001b[0mnet\u001b[0m \u001b[0;34m=\u001b[0m \u001b[0mtflearn\u001b[0m\u001b[0;34m.\u001b[0m\u001b[0mfully_connected\u001b[0m\u001b[0;34m(\u001b[0m\u001b[0mnet\u001b[0m\u001b[0;34m,\u001b[0m \u001b[0;36m8\u001b[0m\u001b[0;34m,\u001b[0m \u001b[0mactivation\u001b[0m\u001b[0;34m=\u001b[0m\u001b[0;34m'softmax'\u001b[0m\u001b[0;34m)\u001b[0m\u001b[0;34m\u001b[0m\u001b[0;34m\u001b[0m\u001b[0m\n",
      "\u001b[0;31mNameError\u001b[0m: name 'tflearn' is not defined"
     ]
    }
   ],
   "source": [
    "batchs = list()\n",
    "for i in range(1, len(MFCCS)+1):\n",
    "    if len(MFCCS) % i == 0:\n",
    "        batchs.append(i)\n",
    "print(batchs)\n",
    "BATCH = int(input(\"Please choose a batch size: \"))\n",
    "if BATCH not in batchs:\n",
    "    print(\"Choosen batch size: %d\" % len(MFCCS))\n",
    "\n",
    "net = tflearn.input_data([None, 20, yLength])\n",
    "net = tflearn.lstm(net, 128, dropout=0.8)\n",
    "net = tflearn.fully_connected(net, 8, activation='softmax')\n",
    "net = tflearn.regression(net, optimizer='adam', learning_rate=0.0001, loss='categorical_crossentropy')\n",
    "\n",
    "model = tflearn.DNN(net, tensorboard_verbose=0)\n",
    "for i in range(TRAIN_ITERS):\n",
    "    model.fit(MFCCS, LABELS, n_epoch=10, validation_set=(_MFCCS, _LABELS), show_metric=True, batch_size=BATCH)\n",
    "model.save(\"tflearn.lstm_with_padding_%d.model\" % BATCH)"
   ]
  },
  {
   "cell_type": "code",
   "execution_count": null,
   "metadata": {},
   "outputs": [],
   "source": []
  }
 ],
 "metadata": {
  "kernelspec": {
   "display_name": "Python 3",
   "language": "python",
   "name": "python3"
  },
  "language_info": {
   "codemirror_mode": {
    "name": "ipython",
    "version": 3
   },
   "file_extension": ".py",
   "mimetype": "text/x-python",
   "name": "python",
   "nbconvert_exporter": "python",
   "pygments_lexer": "ipython3",
   "version": "3.6.9"
  }
 },
 "nbformat": 4,
 "nbformat_minor": 4
}
