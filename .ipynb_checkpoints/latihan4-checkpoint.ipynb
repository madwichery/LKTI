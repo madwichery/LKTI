{
 "cells": [
  {
   "cell_type": "code",
   "execution_count": 39,
   "metadata": {},
   "outputs": [],
   "source": [
    "import os, librosa"
   ]
  },
  {
   "cell_type": "code",
   "execution_count": 49,
   "metadata": {},
   "outputs": [],
   "source": [
    "FILES = os.listdir('./dataset/links/')\n",
    "FILES = [x for x in FILES if x.endswith('.txt')]"
   ]
  },
  {
   "cell_type": "code",
   "execution_count": 52,
   "metadata": {},
   "outputs": [
    {
     "name": "stdout",
     "output_type": "stream",
     "text": [
      "6353\n",
      "6349\n",
      "6253\n",
      "6314\n",
      "6351\n",
      "6238\n",
      "6350\n",
      "6350\n",
      "6350\n",
      "6350\n",
      "6350\n",
      "6350\n",
      "6244\n",
      "6350\n",
      "6236\n",
      "6236\n",
      "6352\n",
      "6238\n",
      "6239\n",
      "6236\n",
      "6349\n",
      "6353\n",
      "6350\n",
      "6352\n",
      "6350\n",
      "6315\n",
      "6349\n",
      "6236\n",
      "6350\n",
      "6236\n",
      "6350\n",
      "6236\n",
      "6350\n",
      "6351\n",
      "6350\n",
      "6238\n",
      "6348\n",
      "6357\n",
      "6353\n",
      "6239\n",
      "6350\n",
      "6350\n",
      "6348\n",
      "6350\n",
      "6351\n",
      "6358\n"
     ]
    }
   ],
   "source": [
    "for x in FILES:\n",
    "    with open('./dataset/links/' + x) as FILE:\n",
    "        f = FILE.read().splitlines()\n",
    "        print(x + ': ' + str(len(f)))"
   ]
  },
  {
   "cell_type": "code",
   "execution_count": 26,
   "metadata": {},
   "outputs": [
    {
     "name": "stdout",
     "output_type": "stream",
     "text": [
      "268416\n"
     ]
    }
   ],
   "source": [
    "print(y1[10000:10100])"
   ]
  }
 ],
 "metadata": {
  "kernelspec": {
   "display_name": "Python 3",
   "language": "python",
   "name": "python3"
  },
  "language_info": {
   "codemirror_mode": {
    "name": "ipython",
    "version": 2
   },
   "file_extension": ".py",
   "mimetype": "text/x-python",
   "name": "python",
   "nbconvert_exporter": "python",
   "pygments_lexer": "ipython2",
   "version": "2.7.13"
  }
 },
 "nbformat": 4,
 "nbformat_minor": 2
}
