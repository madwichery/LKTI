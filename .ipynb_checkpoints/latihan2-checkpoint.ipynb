{
 "cells": [
  {
   "cell_type": "code",
   "execution_count": 1,
   "metadata": {},
   "outputs": [],
   "source": [
    "import os"
   ]
  },
  {
   "cell_type": "code",
   "execution_count": 2,
   "metadata": {},
   "outputs": [],
   "source": [
    "ZIPS = os.listdir('./dataset/origin/')\n",
    "ZIPS = [x for x in ZIPS if x.endswith('.zip')]"
   ]
  },
  {
   "cell_type": "code",
   "execution_count": 4,
   "metadata": {},
   "outputs": [],
   "source": [
    "QORIS = list()\n",
    "for x in ZIPS:\n",
    "    QORIS.append(x[4:-4])"
   ]
  },
  {
   "cell_type": "code",
   "execution_count": 7,
   "metadata": {},
   "outputs": [
    {
     "name": "stdout",
     "output_type": "stream",
     "text": [
      "Alafasy_128kbps\n",
      "Mohammad_al_Tablaway_64kbps\n",
      "Abdullah_Basfar_32kbps\n",
      "mahmoud_ali_al_banna_32kbps\n",
      "Khaalid_Abdullaah_al-Qahtaanee_192kbps\n",
      "Salah_Al_Budair_128kbps\n",
      "Karim_Mansoori_40kbps\n",
      "Hudhaify_32kbps\n",
      "khalefa_al_tunaiji_64kbps\n",
      "Sahl_Yassin_128kbps\n",
      "Menshawi_16kbps\n",
      "Akram_AlAlaqimy_128kbps\n",
      "Yasser_Ad-Dussary_128kbps\n",
      "Maher_AlMuaiqly_64kbps\n",
      "Ahmed_ibn_Ali_al-Ajamy_64kbps\n",
      "Abdullaah_3awwaad_Al-Juhaynee_128kbps\n",
      "Abdurrahmaan_As-Sudais_192kbps\n",
      "Abdul_Basit_Murattal_192kbps\n",
      "Abdullah_Matroud_128kbps\n",
      "Salaah_AbdulRahman_Bukhatir_128kbps\n",
      "Hudhaify_64kbps\n",
      "Alafasy_64kbps\n",
      "Yaser_Salamah_128kbps\n",
      "Muhammad_AbdulKareem_128kbps\n",
      "Husary_Muallim_128kbps\n",
      "Nasser_Alqatami_128kbps\n",
      "Abdul_Basit_Murattal_64kbps\n",
      "Abu_Bakr_Ash-Shaatree_64kbps\n",
      "Husary_Mujawwad_64kbps\n",
      "Abu_Bakr_Ash-Shaatree_128kbps\n",
      "Ahmed_Neana_128kbps\n",
      "Muhammad_Ayyoub_128kbps\n",
      "Abdullah_Basfar_64kbps\n",
      "ahmed_ibn_ali_al_ajamy_128kbps\n",
      "aziz_alili_128kbps\n",
      "Ibrahim_Akhdar_32kbps\n",
      "Muhsin_Al_Qasim_192kbps\n",
      "Husary_64kbps\n",
      "Muhammad_Jibreel_64kbps\n",
      "Abdullah_Basfar_192kbps\n",
      "Abdul_Basit_Mujawwad_128kbps\n",
      "Saood_ash-Shuraym_64kbps\n",
      "Hudhaify_128kbps\n",
      "Ali_Hajjaj_AlSuesy_128kbps\n",
      "Abdurrahmaan_As-Sudais_64kbps\n",
      "Ghamadi_40kbps\n",
      "Fares_Abbad_64kbps\n",
      "Ahmed_ibn_Ali_al-Ajamy_128kbps\n"
     ]
    }
   ],
   "source": [
    "for x in QORIS:\n",
    "    print(x)"
   ]
  },
  {
   "cell_type": "code",
   "execution_count": null,
   "metadata": {},
   "outputs": [],
   "source": []
  }
 ],
 "metadata": {
  "kernelspec": {
   "display_name": "Python 3",
   "language": "python",
   "name": "python3"
  },
  "language_info": {
   "codemirror_mode": {
    "name": "ipython",
    "version": 2
   },
   "file_extension": ".py",
   "mimetype": "text/x-python",
   "name": "python",
   "nbconvert_exporter": "python",
   "pygments_lexer": "ipython2",
   "version": "2.7.13"
  }
 },
 "nbformat": 4,
 "nbformat_minor": 2
}
